{
 "cells": [
  {
   "cell_type": "code",
   "execution_count": 9,
   "id": "badebb59-004d-448e-a564-6f8fe77c895c",
   "metadata": {},
   "outputs": [],
   "source": [
    "y=99"
   ]
  },
  {
   "cell_type": "code",
   "execution_count": 11,
   "id": "a8fdd89d-6d54-4369-9942-56a10aa1280c",
   "metadata": {},
   "outputs": [
    {
     "data": {
      "text/plain": [
       "100"
      ]
     },
     "execution_count": 11,
     "metadata": {},
     "output_type": "execute_result"
    }
   ],
   "source": [
    "x+y"
   ]
  },
  {
   "cell_type": "code",
   "execution_count": 13,
   "id": "0c4c852a-146d-4ee3-aa73-c929c7f38d4d",
   "metadata": {},
   "outputs": [],
   "source": [
    "x=50"
   ]
  },
  {
   "cell_type": "code",
   "execution_count": 15,
   "id": "9297b243-2484-4918-bd12-b3cf71b07a98",
   "metadata": {},
   "outputs": [],
   "source": [
    "y=50"
   ]
  },
  {
   "cell_type": "code",
   "execution_count": 17,
   "id": "e48f2b43-c540-4168-86e6-60bdd0d8dfa4",
   "metadata": {},
   "outputs": [
    {
     "data": {
      "text/plain": [
       "100"
      ]
     },
     "execution_count": 17,
     "metadata": {},
     "output_type": "execute_result"
    }
   ],
   "source": [
    "x+y"
   ]
  },
  {
   "cell_type": "code",
   "execution_count": 19,
   "id": "294175c5-6552-4fac-8c0a-bccce44ef4c6",
   "metadata": {},
   "outputs": [],
   "source": [
    "x=1000"
   ]
  },
  {
   "cell_type": "code",
   "execution_count": 21,
   "id": "52bbc6a0-180d-48f8-a3fc-85261201bb35",
   "metadata": {},
   "outputs": [],
   "source": [
    "y=900"
   ]
  },
  {
   "cell_type": "code",
   "execution_count": 23,
   "id": "2bc3e7eb-3fce-47cb-a02c-f98d720a2918",
   "metadata": {},
   "outputs": [
    {
     "data": {
      "text/plain": [
       "100"
      ]
     },
     "execution_count": 23,
     "metadata": {},
     "output_type": "execute_result"
    }
   ],
   "source": [
    "x-y"
   ]
  },
  {
   "cell_type": "markdown",
   "id": "868b4aab-c49c-482a-a751-41b54764520f",
   "metadata": {},
   "source": []
  },
  {
   "cell_type": "code",
   "execution_count": null,
   "id": "77832334-8e4a-461d-96cc-4ffca2f0f480",
   "metadata": {},
   "outputs": [],
   "source": []
  },
  {
   "cell_type": "code",
   "execution_count": null,
   "id": "3d61e0f7-f3b5-4466-9943-8ea7c7f8f513",
   "metadata": {},
   "outputs": [],
   "source": []
  },
  {
   "cell_type": "code",
   "execution_count": null,
   "id": "8dc19db8-94ff-4068-87e3-091345172b83",
   "metadata": {},
   "outputs": [],
   "source": []
  },
  {
   "cell_type": "code",
   "execution_count": null,
   "id": "bcf8533a-5b58-474f-890d-32d7bfc1f8a7",
   "metadata": {},
   "outputs": [],
   "source": []
  },
  {
   "cell_type": "code",
   "execution_count": null,
   "id": "0b8a874a-6190-44bb-9c13-535e675fa6f7",
   "metadata": {},
   "outputs": [],
   "source": []
  },
  {
   "cell_type": "code",
   "execution_count": null,
   "id": "99b35a05-a766-47d4-bc29-c65507ae503d",
   "metadata": {},
   "outputs": [],
   "source": []
  }
 ],
 "metadata": {
  "kernelspec": {
   "display_name": "Python 3 (ipykernel)",
   "language": "python",
   "name": "python3"
  },
  "language_info": {
   "codemirror_mode": {
    "name": "ipython",
    "version": 3
   },
   "file_extension": ".py",
   "mimetype": "text/x-python",
   "name": "python",
   "nbconvert_exporter": "python",
   "pygments_lexer": "ipython3",
   "version": "3.11.7"
  }
 },
 "nbformat": 4,
 "nbformat_minor": 5
}
