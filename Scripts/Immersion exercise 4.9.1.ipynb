{
 "cells": [
  {
   "cell_type": "markdown",
   "id": "eae3fc8e-baad-4764-bb2b-4cd64254c23f",
   "metadata": {},
   "source": [
    "## Task\n",
    "### Part 1"
   ]
  },
  {
   "cell_type": "markdown",
   "id": "9b0e04f7-8425-426d-9159-36b2f026648d",
   "metadata": {},
   "source": [
    "### 3. Import your analysis libraries, as well as your new customer data set as a dataframe."
   ]
  },
  {
   "cell_type": "code",
   "execution_count": 3,
   "id": "9f4af5fd-0ac7-481d-9d74-c6f1fdc4f8c6",
   "metadata": {},
   "outputs": [],
   "source": [
    "import pandas as pd\n",
    "import numpy as np\n",
    "import os"
   ]
  },
  {
   "cell_type": "code",
   "execution_count": 4,
   "id": "a2e6e4c8-f1d2-4728-8e7e-253f7d587c0c",
   "metadata": {},
   "outputs": [],
   "source": [
    "path = r'C:\\Users\\Víctor A\\Desktop\\CAREER FOUNDRY\\Instacart Basket Analysis'"
   ]
  },
  {
   "cell_type": "code",
   "execution_count": 5,
   "id": "f69b69cc-edc5-4bf9-97c5-814b48d2df8b",
   "metadata": {},
   "outputs": [],
   "source": [
    "customers = pd.read_csv(os.path.join(path, '02 Data', 'Original Data', 'customers.csv'))"
   ]
  },
  {
   "cell_type": "markdown",
   "id": "57716ab7-69b1-4841-b702-ebbd35c6d8b3",
   "metadata": {},
   "source": [
    "### 4. Wrangle the data so that it follows consistent logic; for example, rename columns with illogical names and drop columns that don’t add anything to your analysis."
   ]
  },
  {
   "cell_type": "code",
   "execution_count": 7,
   "id": "584d3e44-7cbf-460d-a40a-575981fe43f4",
   "metadata": {},
   "outputs": [],
   "source": [
    "# Checking Dataframe"
   ]
  },
  {
   "cell_type": "code",
   "execution_count": 8,
   "id": "266ff915-b6ea-4ae2-8c1a-bad8311826b5",
   "metadata": {},
   "outputs": [
    {
     "data": {
      "text/html": [
       "<div>\n",
       "<style scoped>\n",
       "    .dataframe tbody tr th:only-of-type {\n",
       "        vertical-align: middle;\n",
       "    }\n",
       "\n",
       "    .dataframe tbody tr th {\n",
       "        vertical-align: top;\n",
       "    }\n",
       "\n",
       "    .dataframe thead th {\n",
       "        text-align: right;\n",
       "    }\n",
       "</style>\n",
       "<table border=\"1\" class=\"dataframe\">\n",
       "  <thead>\n",
       "    <tr style=\"text-align: right;\">\n",
       "      <th></th>\n",
       "      <th>user_id</th>\n",
       "      <th>First Name</th>\n",
       "      <th>Surnam</th>\n",
       "      <th>Gender</th>\n",
       "      <th>STATE</th>\n",
       "      <th>Age</th>\n",
       "      <th>date_joined</th>\n",
       "      <th>n_dependants</th>\n",
       "      <th>fam_status</th>\n",
       "      <th>income</th>\n",
       "    </tr>\n",
       "  </thead>\n",
       "  <tbody>\n",
       "    <tr>\n",
       "      <th>0</th>\n",
       "      <td>26711</td>\n",
       "      <td>Deborah</td>\n",
       "      <td>Esquivel</td>\n",
       "      <td>Female</td>\n",
       "      <td>Missouri</td>\n",
       "      <td>48</td>\n",
       "      <td>1/1/2017</td>\n",
       "      <td>3</td>\n",
       "      <td>married</td>\n",
       "      <td>165665</td>\n",
       "    </tr>\n",
       "    <tr>\n",
       "      <th>1</th>\n",
       "      <td>33890</td>\n",
       "      <td>Patricia</td>\n",
       "      <td>Hart</td>\n",
       "      <td>Female</td>\n",
       "      <td>New Mexico</td>\n",
       "      <td>36</td>\n",
       "      <td>1/1/2017</td>\n",
       "      <td>0</td>\n",
       "      <td>single</td>\n",
       "      <td>59285</td>\n",
       "    </tr>\n",
       "    <tr>\n",
       "      <th>2</th>\n",
       "      <td>65803</td>\n",
       "      <td>Kenneth</td>\n",
       "      <td>Farley</td>\n",
       "      <td>Male</td>\n",
       "      <td>Idaho</td>\n",
       "      <td>35</td>\n",
       "      <td>1/1/2017</td>\n",
       "      <td>2</td>\n",
       "      <td>married</td>\n",
       "      <td>99568</td>\n",
       "    </tr>\n",
       "    <tr>\n",
       "      <th>3</th>\n",
       "      <td>125935</td>\n",
       "      <td>Michelle</td>\n",
       "      <td>Hicks</td>\n",
       "      <td>Female</td>\n",
       "      <td>Iowa</td>\n",
       "      <td>40</td>\n",
       "      <td>1/1/2017</td>\n",
       "      <td>0</td>\n",
       "      <td>single</td>\n",
       "      <td>42049</td>\n",
       "    </tr>\n",
       "    <tr>\n",
       "      <th>4</th>\n",
       "      <td>130797</td>\n",
       "      <td>Ann</td>\n",
       "      <td>Gilmore</td>\n",
       "      <td>Female</td>\n",
       "      <td>Maryland</td>\n",
       "      <td>26</td>\n",
       "      <td>1/1/2017</td>\n",
       "      <td>1</td>\n",
       "      <td>married</td>\n",
       "      <td>40374</td>\n",
       "    </tr>\n",
       "  </tbody>\n",
       "</table>\n",
       "</div>"
      ],
      "text/plain": [
       "   user_id First Name    Surnam  Gender       STATE  Age date_joined  \\\n",
       "0    26711    Deborah  Esquivel  Female    Missouri   48    1/1/2017   \n",
       "1    33890   Patricia      Hart  Female  New Mexico   36    1/1/2017   \n",
       "2    65803    Kenneth    Farley    Male       Idaho   35    1/1/2017   \n",
       "3   125935   Michelle     Hicks  Female        Iowa   40    1/1/2017   \n",
       "4   130797        Ann   Gilmore  Female    Maryland   26    1/1/2017   \n",
       "\n",
       "   n_dependants fam_status  income  \n",
       "0             3    married  165665  \n",
       "1             0     single   59285  \n",
       "2             2    married   99568  \n",
       "3             0     single   42049  \n",
       "4             1    married   40374  "
      ]
     },
     "execution_count": 8,
     "metadata": {},
     "output_type": "execute_result"
    }
   ],
   "source": [
    "customers.head()"
   ]
  },
  {
   "cell_type": "code",
   "execution_count": 9,
   "id": "64aee8d6-8fd3-42b7-a258-d7d168a32c94",
   "metadata": {},
   "outputs": [
    {
     "data": {
      "text/plain": [
       "(206209, 10)"
      ]
     },
     "execution_count": 9,
     "metadata": {},
     "output_type": "execute_result"
    }
   ],
   "source": [
    "customers.shape"
   ]
  },
  {
   "cell_type": "code",
   "execution_count": 10,
   "id": "320e49cd-8231-4eaf-89e6-9830332a9c5f",
   "metadata": {},
   "outputs": [
    {
     "data": {
      "text/html": [
       "<div>\n",
       "<style scoped>\n",
       "    .dataframe tbody tr th:only-of-type {\n",
       "        vertical-align: middle;\n",
       "    }\n",
       "\n",
       "    .dataframe tbody tr th {\n",
       "        vertical-align: top;\n",
       "    }\n",
       "\n",
       "    .dataframe thead th {\n",
       "        text-align: right;\n",
       "    }\n",
       "</style>\n",
       "<table border=\"1\" class=\"dataframe\">\n",
       "  <thead>\n",
       "    <tr style=\"text-align: right;\">\n",
       "      <th></th>\n",
       "      <th>user_id</th>\n",
       "      <th>Age</th>\n",
       "      <th>n_dependants</th>\n",
       "      <th>income</th>\n",
       "    </tr>\n",
       "  </thead>\n",
       "  <tbody>\n",
       "    <tr>\n",
       "      <th>count</th>\n",
       "      <td>206209.000000</td>\n",
       "      <td>206209.000000</td>\n",
       "      <td>206209.000000</td>\n",
       "      <td>206209.000000</td>\n",
       "    </tr>\n",
       "    <tr>\n",
       "      <th>mean</th>\n",
       "      <td>103105.000000</td>\n",
       "      <td>49.501646</td>\n",
       "      <td>1.499823</td>\n",
       "      <td>94632.852548</td>\n",
       "    </tr>\n",
       "    <tr>\n",
       "      <th>std</th>\n",
       "      <td>59527.555167</td>\n",
       "      <td>18.480962</td>\n",
       "      <td>1.118433</td>\n",
       "      <td>42473.786988</td>\n",
       "    </tr>\n",
       "    <tr>\n",
       "      <th>min</th>\n",
       "      <td>1.000000</td>\n",
       "      <td>18.000000</td>\n",
       "      <td>0.000000</td>\n",
       "      <td>25903.000000</td>\n",
       "    </tr>\n",
       "    <tr>\n",
       "      <th>25%</th>\n",
       "      <td>51553.000000</td>\n",
       "      <td>33.000000</td>\n",
       "      <td>0.000000</td>\n",
       "      <td>59874.000000</td>\n",
       "    </tr>\n",
       "    <tr>\n",
       "      <th>50%</th>\n",
       "      <td>103105.000000</td>\n",
       "      <td>49.000000</td>\n",
       "      <td>1.000000</td>\n",
       "      <td>93547.000000</td>\n",
       "    </tr>\n",
       "    <tr>\n",
       "      <th>75%</th>\n",
       "      <td>154657.000000</td>\n",
       "      <td>66.000000</td>\n",
       "      <td>3.000000</td>\n",
       "      <td>124244.000000</td>\n",
       "    </tr>\n",
       "    <tr>\n",
       "      <th>max</th>\n",
       "      <td>206209.000000</td>\n",
       "      <td>81.000000</td>\n",
       "      <td>3.000000</td>\n",
       "      <td>593901.000000</td>\n",
       "    </tr>\n",
       "  </tbody>\n",
       "</table>\n",
       "</div>"
      ],
      "text/plain": [
       "             user_id            Age   n_dependants         income\n",
       "count  206209.000000  206209.000000  206209.000000  206209.000000\n",
       "mean   103105.000000      49.501646       1.499823   94632.852548\n",
       "std     59527.555167      18.480962       1.118433   42473.786988\n",
       "min         1.000000      18.000000       0.000000   25903.000000\n",
       "25%     51553.000000      33.000000       0.000000   59874.000000\n",
       "50%    103105.000000      49.000000       1.000000   93547.000000\n",
       "75%    154657.000000      66.000000       3.000000  124244.000000\n",
       "max    206209.000000      81.000000       3.000000  593901.000000"
      ]
     },
     "execution_count": 10,
     "metadata": {},
     "output_type": "execute_result"
    }
   ],
   "source": [
    "customers.describe()"
   ]
  },
  {
   "cell_type": "code",
   "execution_count": 11,
   "id": "1d5d1f9d-0a1a-4268-a473-fd8ac64368fc",
   "metadata": {},
   "outputs": [
    {
     "name": "stdout",
     "output_type": "stream",
     "text": [
      "<class 'pandas.core.frame.DataFrame'>\n",
      "RangeIndex: 206209 entries, 0 to 206208\n",
      "Data columns (total 10 columns):\n",
      " #   Column        Non-Null Count   Dtype \n",
      "---  ------        --------------   ----- \n",
      " 0   user_id       206209 non-null  int64 \n",
      " 1   First Name    194950 non-null  object\n",
      " 2   Surnam        206209 non-null  object\n",
      " 3   Gender        206209 non-null  object\n",
      " 4   STATE         206209 non-null  object\n",
      " 5   Age           206209 non-null  int64 \n",
      " 6   date_joined   206209 non-null  object\n",
      " 7   n_dependants  206209 non-null  int64 \n",
      " 8   fam_status    206209 non-null  object\n",
      " 9   income        206209 non-null  int64 \n",
      "dtypes: int64(4), object(6)\n",
      "memory usage: 15.7+ MB\n"
     ]
    }
   ],
   "source": [
    "customers.info()"
   ]
  },
  {
   "cell_type": "code",
   "execution_count": 12,
   "id": "6363cd23-b7f2-42fd-a2df-8fe0268b66b1",
   "metadata": {},
   "outputs": [],
   "source": [
    "# Standarize column names"
   ]
  },
  {
   "cell_type": "code",
   "execution_count": 13,
   "id": "11f97717-1c1a-4fbe-a2fc-71166131e17a",
   "metadata": {},
   "outputs": [],
   "source": [
    "customers.rename(columns = {'First Name' : 'first_name'}, inplace = True)\n",
    "customers.rename(columns = {'Surnam' : 'last_name'}, inplace = True)\n",
    "customers.rename(columns = {'Gender' : 'gender'}, inplace = True)\n",
    "customers.rename(columns = {'STATE' : 'state'}, inplace = True)\n",
    "customers.rename(columns = {'Age' : 'age'}, inplace = True)\n",
    "customers.rename(columns = {'n_dependants' : 'dependants'}, inplace = True)\n",
    "customers.rename(columns = {'fam_status' : 'marital_status'}, inplace = True)"
   ]
  },
  {
   "cell_type": "code",
   "execution_count": 14,
   "id": "2e8b4a83-2249-480d-bbe4-497ff5902f49",
   "metadata": {},
   "outputs": [
    {
     "name": "stdout",
     "output_type": "stream",
     "text": [
      "<class 'pandas.core.frame.DataFrame'>\n",
      "RangeIndex: 206209 entries, 0 to 206208\n",
      "Data columns (total 10 columns):\n",
      " #   Column          Non-Null Count   Dtype \n",
      "---  ------          --------------   ----- \n",
      " 0   user_id         206209 non-null  int64 \n",
      " 1   first_name      194950 non-null  object\n",
      " 2   last_name       206209 non-null  object\n",
      " 3   gender          206209 non-null  object\n",
      " 4   state           206209 non-null  object\n",
      " 5   age             206209 non-null  int64 \n",
      " 6   date_joined     206209 non-null  object\n",
      " 7   dependants      206209 non-null  int64 \n",
      " 8   marital_status  206209 non-null  object\n",
      " 9   income          206209 non-null  int64 \n",
      "dtypes: int64(4), object(6)\n",
      "memory usage: 15.7+ MB\n"
     ]
    }
   ],
   "source": [
    "customers.info()"
   ]
  },
  {
   "cell_type": "markdown",
   "id": "93b9c5ed-b44a-413e-bcc1-0d5f77268594",
   "metadata": {},
   "source": [
    "### 5. Complete the fundamental data quality and consistency checks you’ve learned throughout this Achievement; for example, check for and address missing values and duplicates, and convert any mixed-type data."
   ]
  },
  {
   "cell_type": "code",
   "execution_count": 16,
   "id": "43195729-5dae-4d5a-be8c-1658d88fbfb4",
   "metadata": {},
   "outputs": [
    {
     "data": {
      "text/plain": [
       "user_id               0\n",
       "first_name        11259\n",
       "last_name             0\n",
       "gender                0\n",
       "state                 0\n",
       "age                   0\n",
       "date_joined           0\n",
       "dependants            0\n",
       "marital_status        0\n",
       "income                0\n",
       "dtype: int64"
      ]
     },
     "execution_count": 16,
     "metadata": {},
     "output_type": "execute_result"
    }
   ],
   "source": [
    "# Checking missing values\n",
    "\n",
    "customers.isnull().sum()"
   ]
  },
  {
   "cell_type": "code",
   "execution_count": 17,
   "id": "724bf1e2-5f8c-4b88-bc45-6322c53d62f9",
   "metadata": {},
   "outputs": [],
   "source": [
    "# Checking duplicates\n",
    "\n",
    "duplicates = customers[customers.duplicated()]"
   ]
  },
  {
   "cell_type": "code",
   "execution_count": 18,
   "id": "290c9079-112a-4805-b06d-36e1dd86ab3a",
   "metadata": {},
   "outputs": [
    {
     "data": {
      "text/html": [
       "<div>\n",
       "<style scoped>\n",
       "    .dataframe tbody tr th:only-of-type {\n",
       "        vertical-align: middle;\n",
       "    }\n",
       "\n",
       "    .dataframe tbody tr th {\n",
       "        vertical-align: top;\n",
       "    }\n",
       "\n",
       "    .dataframe thead th {\n",
       "        text-align: right;\n",
       "    }\n",
       "</style>\n",
       "<table border=\"1\" class=\"dataframe\">\n",
       "  <thead>\n",
       "    <tr style=\"text-align: right;\">\n",
       "      <th></th>\n",
       "      <th>user_id</th>\n",
       "      <th>first_name</th>\n",
       "      <th>last_name</th>\n",
       "      <th>gender</th>\n",
       "      <th>state</th>\n",
       "      <th>age</th>\n",
       "      <th>date_joined</th>\n",
       "      <th>dependants</th>\n",
       "      <th>marital_status</th>\n",
       "      <th>income</th>\n",
       "    </tr>\n",
       "  </thead>\n",
       "  <tbody>\n",
       "  </tbody>\n",
       "</table>\n",
       "</div>"
      ],
      "text/plain": [
       "Empty DataFrame\n",
       "Columns: [user_id, first_name, last_name, gender, state, age, date_joined, dependants, marital_status, income]\n",
       "Index: []"
      ]
     },
     "execution_count": 18,
     "metadata": {},
     "output_type": "execute_result"
    }
   ],
   "source": [
    "duplicates"
   ]
  },
  {
   "cell_type": "code",
   "execution_count": 19,
   "id": "00c436af-9b1e-4010-8d7e-a0913b43818d",
   "metadata": {},
   "outputs": [
    {
     "data": {
      "text/plain": [
       "user_id            int64\n",
       "first_name        object\n",
       "last_name         object\n",
       "gender            object\n",
       "state             object\n",
       "age                int64\n",
       "date_joined       object\n",
       "dependants         int64\n",
       "marital_status    object\n",
       "income             int64\n",
       "dtype: object"
      ]
     },
     "execution_count": 19,
     "metadata": {},
     "output_type": "execute_result"
    }
   ],
   "source": [
    "# Checking mixed-type\n",
    "\n",
    "customers.dtypes"
   ]
  },
  {
   "cell_type": "code",
   "execution_count": 20,
   "id": "a7400ca9-09e5-4cfa-991e-2778212d8110",
   "metadata": {},
   "outputs": [
    {
     "name": "stdout",
     "output_type": "stream",
     "text": [
      "first_name\n"
     ]
    }
   ],
   "source": [
    "for col in customers.columns.tolist():\n",
    "  weird = (customers[[col]].map(type) != customers[[col]].iloc[0].apply(type)).any(axis = 1)\n",
    "  if len (customers[weird]) > 0:\n",
    "    print (col)"
   ]
  },
  {
   "cell_type": "code",
   "execution_count": 21,
   "id": "76be62ad-aa77-46f9-b9d0-31127d1313b1",
   "metadata": {},
   "outputs": [],
   "source": [
    "# Very likely mixed data in first_name is due to missing values. Address both issues by changing NaN to 'No Name'\n",
    "\n",
    "customers['first_name'] = customers['first_name'].fillna('No Name')"
   ]
  },
  {
   "cell_type": "code",
   "execution_count": 22,
   "id": "e70d61df-c79b-4cc4-9da4-fc373a52cda6",
   "metadata": {},
   "outputs": [
    {
     "data": {
      "text/plain": [
       "user_id           0\n",
       "first_name        0\n",
       "last_name         0\n",
       "gender            0\n",
       "state             0\n",
       "age               0\n",
       "date_joined       0\n",
       "dependants        0\n",
       "marital_status    0\n",
       "income            0\n",
       "dtype: int64"
      ]
     },
     "execution_count": 22,
     "metadata": {},
     "output_type": "execute_result"
    }
   ],
   "source": [
    "# Recheck\n",
    "\n",
    "customers.isnull().sum()"
   ]
  },
  {
   "cell_type": "code",
   "execution_count": 23,
   "id": "34c92464-3059-47a0-8152-5164a04104e0",
   "metadata": {},
   "outputs": [],
   "source": [
    "for col in customers.columns.tolist():\n",
    "  weird = (customers[[col]].map(type) != customers[[col]].iloc[0].apply(type)).any(axis = 1)\n",
    "  if len (customers[weird]) > 0:\n",
    "    print (col)"
   ]
  },
  {
   "cell_type": "code",
   "execution_count": 24,
   "id": "9058f181-63f5-4cbc-9686-6a07291c6b6e",
   "metadata": {},
   "outputs": [],
   "source": [
    "# Changing every int64 column to int32 for memory issues and consistency with ords_prods_merge_4.8_cleaned\n",
    "\n",
    "customers['user_id'] = customers['user_id'].astype('int32')\n",
    "customers['age'] = customers['age'].astype('int32')\n",
    "customers['dependants'] = customers['dependants'].astype('int32')\n",
    "customers['income'] = customers['income'].astype('int32')"
   ]
  },
  {
   "cell_type": "code",
   "execution_count": 25,
   "id": "db81d457-e4bd-461d-8ca2-118d40f4319f",
   "metadata": {},
   "outputs": [],
   "source": [
    "# Changing date_joined column to datetime format for memoery issues and further analysis\n",
    "\n",
    "customers['date_joined'] = pd.to_datetime(customers['date_joined'], format='%m/%d/%Y')"
   ]
  },
  {
   "cell_type": "code",
   "execution_count": 26,
   "id": "e8ec38ce-3657-4c61-86db-4d3b7a52d3a1",
   "metadata": {},
   "outputs": [],
   "source": [
    "# Checking changes"
   ]
  },
  {
   "cell_type": "code",
   "execution_count": 27,
   "id": "9f8fbd7d-07ea-439b-84d1-ac7fea447ba9",
   "metadata": {},
   "outputs": [
    {
     "name": "stdout",
     "output_type": "stream",
     "text": [
      "<class 'pandas.core.frame.DataFrame'>\n",
      "RangeIndex: 206209 entries, 0 to 206208\n",
      "Data columns (total 10 columns):\n",
      " #   Column          Non-Null Count   Dtype         \n",
      "---  ------          --------------   -----         \n",
      " 0   user_id         206209 non-null  int32         \n",
      " 1   first_name      206209 non-null  object        \n",
      " 2   last_name       206209 non-null  object        \n",
      " 3   gender          206209 non-null  object        \n",
      " 4   state           206209 non-null  object        \n",
      " 5   age             206209 non-null  int32         \n",
      " 6   date_joined     206209 non-null  datetime64[ns]\n",
      " 7   dependants      206209 non-null  int32         \n",
      " 8   marital_status  206209 non-null  object        \n",
      " 9   income          206209 non-null  int32         \n",
      "dtypes: datetime64[ns](1), int32(4), object(5)\n",
      "memory usage: 12.6+ MB\n"
     ]
    }
   ],
   "source": [
    "customers.info()"
   ]
  },
  {
   "cell_type": "code",
   "execution_count": 28,
   "id": "0fb62162-1a42-474d-86c5-911acf5f8860",
   "metadata": {},
   "outputs": [],
   "source": [
    "# Exporting customers \n",
    "\n",
    "customers.to_csv(os.path.join(path, '02 Data','Prepared Data', 'customers_wrangled_4.9.csv'), index = False)"
   ]
  },
  {
   "cell_type": "code",
   "execution_count": null,
   "id": "678104b9-32a2-4c5e-af05-d84bf6954d0c",
   "metadata": {},
   "outputs": [],
   "source": []
  },
  {
   "cell_type": "markdown",
   "id": "66ba9ef6-eae2-4170-8960-9abcaa741ff6",
   "metadata": {},
   "source": [
    "### 6. Combine your customer data with the rest of your prepared Instacart data. (Hint: Make sure the key columns are the same data type!)"
   ]
  },
  {
   "cell_type": "code",
   "execution_count": 53,
   "id": "6881c93f-2e05-4883-bac8-49fada158a71",
   "metadata": {},
   "outputs": [],
   "source": [
    "# Importing ords_prods_merge_4.8.2_cleaned\n",
    "\n",
    "ords_prods_merge =pd.read_pickle(os.path.join(path, '02 Data', 'Prepared Data', 'ords_prods_merge_4.9_lastcleaned.pkl'))"
   ]
  },
  {
   "cell_type": "code",
   "execution_count": 57,
   "id": "014f4b55-af85-4d03-9bf4-8d9affacf7e3",
   "metadata": {},
   "outputs": [
    {
     "name": "stdout",
     "output_type": "stream",
     "text": [
      "<class 'pandas.core.frame.DataFrame'>\n",
      "Index: 32399732 entries, 0 to 32404858\n",
      "Data columns (total 24 columns):\n",
      " #   Column                 Dtype   \n",
      "---  ------                 -----   \n",
      " 0   product_id             int32   \n",
      " 1   product_name           object  \n",
      " 2   aisle_id               int16   \n",
      " 3   department_id          int16   \n",
      " 4   prices                 float16 \n",
      " 5   order_id               int32   \n",
      " 6   user_id                int32   \n",
      " 7   order_number           int16   \n",
      " 8   orders_day_of_week     int16   \n",
      " 9   order_hour_of_day      int16   \n",
      " 10  days_since_last_order  int16   \n",
      " 11  is_first_order         bool    \n",
      " 12  add_to_cart_order      int16   \n",
      " 13  reordered              int16   \n",
      " 14  price_range_loc        category\n",
      " 15  busiest_day            category\n",
      " 16  busiest_days           category\n",
      " 17  busiest_period_of_day  category\n",
      " 18  max_order              int16   \n",
      " 19  loyalty_flag           category\n",
      " 20  average_spend          float16 \n",
      " 21  spending_flag          category\n",
      " 22  customer_frequency     float16 \n",
      " 23  frequency_flag         category\n",
      "dtypes: bool(1), category(7), float16(3), int16(9), int32(3), object(1)\n",
      "memory usage: 1.8+ GB\n"
     ]
    }
   ],
   "source": [
    "# Checking new dataframe\n",
    "\n",
    "ords_prods_merge.info()"
   ]
  },
  {
   "cell_type": "code",
   "execution_count": null,
   "id": "b870a3a9-1a77-4dfa-9d81-269ce8a1c0b9",
   "metadata": {},
   "outputs": [],
   "source": []
  },
  {
   "cell_type": "code",
   "execution_count": 59,
   "id": "e18928c4-0e10-4d77-ad5f-ca671ec464ed",
   "metadata": {},
   "outputs": [],
   "source": [
    "# Combine both datasets\n",
    "\n",
    "ords_prods_custms_merge = ords_prods_merge.merge(customers, on = 'user_id', indicator = True)"
   ]
  },
  {
   "cell_type": "code",
   "execution_count": 61,
   "id": "a1040b89-558a-412f-83a3-8469831827bf",
   "metadata": {},
   "outputs": [
    {
     "name": "stdout",
     "output_type": "stream",
     "text": [
      "<class 'pandas.core.frame.DataFrame'>\n",
      "RangeIndex: 32399732 entries, 0 to 32399731\n",
      "Data columns (total 34 columns):\n",
      " #   Column                 Dtype         \n",
      "---  ------                 -----         \n",
      " 0   product_id             int32         \n",
      " 1   product_name           object        \n",
      " 2   aisle_id               int16         \n",
      " 3   department_id          int16         \n",
      " 4   prices                 float16       \n",
      " 5   order_id               int32         \n",
      " 6   user_id                int32         \n",
      " 7   order_number           int16         \n",
      " 8   orders_day_of_week     int16         \n",
      " 9   order_hour_of_day      int16         \n",
      " 10  days_since_last_order  int16         \n",
      " 11  is_first_order         bool          \n",
      " 12  add_to_cart_order      int16         \n",
      " 13  reordered              int16         \n",
      " 14  price_range_loc        category      \n",
      " 15  busiest_day            category      \n",
      " 16  busiest_days           category      \n",
      " 17  busiest_period_of_day  category      \n",
      " 18  max_order              int16         \n",
      " 19  loyalty_flag           category      \n",
      " 20  average_spend          float16       \n",
      " 21  spending_flag          category      \n",
      " 22  customer_frequency     float16       \n",
      " 23  frequency_flag         category      \n",
      " 24  first_name             object        \n",
      " 25  last_name              object        \n",
      " 26  gender                 object        \n",
      " 27  state                  object        \n",
      " 28  age                    int32         \n",
      " 29  date_joined            datetime64[ns]\n",
      " 30  dependants             int32         \n",
      " 31  marital_status         object        \n",
      " 32  income                 int32         \n",
      " 33  _merge                 category      \n",
      "dtypes: bool(1), category(8), datetime64[ns](1), float16(3), int16(9), int32(6), object(6)\n",
      "memory usage: 3.4+ GB\n"
     ]
    }
   ],
   "source": [
    "#Checking new dataframe\n",
    "\n",
    "ords_prods_custms_merge.info()"
   ]
  },
  {
   "cell_type": "code",
   "execution_count": 65,
   "id": "e285aaae-28c6-4e67-92b5-c1a8ef7acd7d",
   "metadata": {},
   "outputs": [
    {
     "data": {
      "text/plain": [
       "_merge\n",
       "both          32399732\n",
       "left_only            0\n",
       "right_only           0\n",
       "Name: count, dtype: int64"
      ]
     },
     "execution_count": 65,
     "metadata": {},
     "output_type": "execute_result"
    }
   ],
   "source": [
    "# Check merge\n",
    "\n",
    "ords_prods_custms_merge['_merge'].value_counts()"
   ]
  },
  {
   "cell_type": "code",
   "execution_count": 69,
   "id": "6f7f0fb4-4da6-4e6e-84a5-0b776fbbb790",
   "metadata": {},
   "outputs": [],
   "source": [
    "# Drop _merge\n",
    "\n",
    "ords_prods_custms_merge.drop(columns = ['_merge'], inplace = True) "
   ]
  },
  {
   "cell_type": "code",
   "execution_count": 71,
   "id": "0e1c1992-3998-4778-b01b-2ecd8466b0cb",
   "metadata": {},
   "outputs": [],
   "source": [
    "# some datatype chanches before exporting in order to save some memory\n",
    "\n",
    "ords_prods_custms_merge['gender'] = ords_prods_custms_merge['gender'].astype('category')\n",
    "ords_prods_custms_merge['marital_status'] = ords_prods_custms_merge['marital_status'].astype('category')\n",
    "ords_prods_custms_merge['age'] = ords_prods_custms_merge['age'].astype('int16')\n",
    "ords_prods_custms_merge['dependants'] = ords_prods_custms_merge['dependants'].astype('int16')"
   ]
  },
  {
   "cell_type": "code",
   "execution_count": 73,
   "id": "01fef8c8-9c66-428f-87a3-9374f4e12786",
   "metadata": {},
   "outputs": [
    {
     "name": "stdout",
     "output_type": "stream",
     "text": [
      "<class 'pandas.core.frame.DataFrame'>\n",
      "RangeIndex: 32399732 entries, 0 to 32399731\n",
      "Data columns (total 33 columns):\n",
      " #   Column                 Dtype         \n",
      "---  ------                 -----         \n",
      " 0   product_id             int32         \n",
      " 1   product_name           object        \n",
      " 2   aisle_id               int16         \n",
      " 3   department_id          int16         \n",
      " 4   prices                 float16       \n",
      " 5   order_id               int32         \n",
      " 6   user_id                int32         \n",
      " 7   order_number           int16         \n",
      " 8   orders_day_of_week     int16         \n",
      " 9   order_hour_of_day      int16         \n",
      " 10  days_since_last_order  int16         \n",
      " 11  is_first_order         bool          \n",
      " 12  add_to_cart_order      int16         \n",
      " 13  reordered              int16         \n",
      " 14  price_range_loc        category      \n",
      " 15  busiest_day            category      \n",
      " 16  busiest_days           category      \n",
      " 17  busiest_period_of_day  category      \n",
      " 18  max_order              int16         \n",
      " 19  loyalty_flag           category      \n",
      " 20  average_spend          float16       \n",
      " 21  spending_flag          category      \n",
      " 22  customer_frequency     float16       \n",
      " 23  frequency_flag         category      \n",
      " 24  first_name             object        \n",
      " 25  last_name              object        \n",
      " 26  gender                 category      \n",
      " 27  state                  object        \n",
      " 28  age                    int16         \n",
      " 29  date_joined            datetime64[ns]\n",
      " 30  dependants             int16         \n",
      " 31  marital_status         category      \n",
      " 32  income                 int32         \n",
      "dtypes: bool(1), category(9), datetime64[ns](1), float16(3), int16(11), int32(4), object(4)\n",
      "memory usage: 2.8+ GB\n"
     ]
    }
   ],
   "source": [
    "ords_prods_custms_merge.info()"
   ]
  },
  {
   "cell_type": "markdown",
   "id": "9321123f-667f-4822-a5f0-edee23c7b15a",
   "metadata": {},
   "source": [
    "### 8. Export this new dataframe as a pickle file so you can continue to use it in the second part of this task."
   ]
  },
  {
   "cell_type": "code",
   "execution_count": 76,
   "id": "7884e8f9-a0e2-4752-93f5-151427fed8da",
   "metadata": {},
   "outputs": [],
   "source": [
    "ords_prods_custms_merge.to_pickle(os.path.join(path, '02 Data','Prepared Data', 'orders_products_customers_merge.pkl'))"
   ]
  },
  {
   "cell_type": "code",
   "execution_count": null,
   "id": "4b477bd0-4195-4715-8d0b-67ee0442a0d3",
   "metadata": {},
   "outputs": [],
   "source": []
  }
 ],
 "metadata": {
  "kernelspec": {
   "display_name": "Python 3 (ipykernel)",
   "language": "python",
   "name": "python3"
  },
  "language_info": {
   "codemirror_mode": {
    "name": "ipython",
    "version": 3
   },
   "file_extension": ".py",
   "mimetype": "text/x-python",
   "name": "python",
   "nbconvert_exporter": "python",
   "pygments_lexer": "ipython3",
   "version": "3.11.7"
  }
 },
 "nbformat": 4,
 "nbformat_minor": 5
}
