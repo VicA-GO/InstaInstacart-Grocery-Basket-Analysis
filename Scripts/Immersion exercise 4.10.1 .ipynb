{
 "cells": [
  {
   "cell_type": "markdown",
   "id": "874cce28-11cf-49c0-8407-5fa5c0e7a55c",
   "metadata": {},
   "source": [
    "## Task"
   ]
  },
  {
   "cell_type": "markdown",
   "id": "2e732a14-2434-4c6a-af02-c7d4871b586f",
   "metadata": {},
   "source": [
    "### Part 1 (Include until 4.)"
   ]
  },
  {
   "cell_type": "markdown",
   "id": "0ac90dfb-b7f5-4f4c-a3ab-17bb6f3d78a4",
   "metadata": {},
   "source": [
    "### 1. Import the data set you exported in Exercise 4.9 into a new Jupyter notebook. This should be the merged version of your data that contains the new customers column."
   ]
  },
  {
   "cell_type": "code",
   "execution_count": 4,
   "id": "dd60564b-39d3-471d-bb95-f7f783a232c1",
   "metadata": {},
   "outputs": [],
   "source": [
    "# Import Libraries\n",
    "\n",
    "import pandas as pd\n",
    "import numpy as np\n",
    "import os\n",
    "import matplotlib.pyplot as plt\n",
    "import seaborn as sns\n",
    "import scipy"
   ]
  },
  {
   "cell_type": "code",
   "execution_count": 5,
   "id": "1e366db5-51fe-41ff-9b14-d1857c54f32f",
   "metadata": {},
   "outputs": [],
   "source": [
    "# Import data set\n",
    "\n",
    "path = r'C:\\Users\\Víctor A\\Desktop\\CAREER FOUNDRY\\Instacart Basket Analysis'\n",
    "\n",
    "instacart = pd.read_pickle(os.path.join(path, '02 Data', 'Prepared Data', 'orders_products_customers_merge.pkl'))"
   ]
  },
  {
   "cell_type": "markdown",
   "id": "f19666e1-8d86-46c2-9ce4-0146856f22cb",
   "metadata": {},
   "source": [
    "### 2. Consider any security implications that might exist for this new data. You’ll need to address any PII data in the data before continuing your analysis."
   ]
  },
  {
   "cell_type": "code",
   "execution_count": 7,
   "id": "5266aedf-482f-4be1-a4f9-af4de213d902",
   "metadata": {},
   "outputs": [
    {
     "data": {
      "text/html": [
       "<div>\n",
       "<style scoped>\n",
       "    .dataframe tbody tr th:only-of-type {\n",
       "        vertical-align: middle;\n",
       "    }\n",
       "\n",
       "    .dataframe tbody tr th {\n",
       "        vertical-align: top;\n",
       "    }\n",
       "\n",
       "    .dataframe thead th {\n",
       "        text-align: right;\n",
       "    }\n",
       "</style>\n",
       "<table border=\"1\" class=\"dataframe\">\n",
       "  <thead>\n",
       "    <tr style=\"text-align: right;\">\n",
       "      <th></th>\n",
       "      <th>product_id</th>\n",
       "      <th>product_name</th>\n",
       "      <th>aisle_id</th>\n",
       "      <th>department_id</th>\n",
       "      <th>prices</th>\n",
       "      <th>order_id</th>\n",
       "      <th>user_id</th>\n",
       "      <th>order_number</th>\n",
       "      <th>orders_day_of_week</th>\n",
       "      <th>order_hour_of_day</th>\n",
       "      <th>...</th>\n",
       "      <th>frequency_flag</th>\n",
       "      <th>first_name</th>\n",
       "      <th>last_name</th>\n",
       "      <th>gender</th>\n",
       "      <th>state</th>\n",
       "      <th>age</th>\n",
       "      <th>date_joined</th>\n",
       "      <th>dependants</th>\n",
       "      <th>marital_status</th>\n",
       "      <th>income</th>\n",
       "    </tr>\n",
       "  </thead>\n",
       "  <tbody>\n",
       "    <tr>\n",
       "      <th>0</th>\n",
       "      <td>1</td>\n",
       "      <td>Chocolate Sandwich Cookies</td>\n",
       "      <td>61</td>\n",
       "      <td>19</td>\n",
       "      <td>5.800781</td>\n",
       "      <td>3139998</td>\n",
       "      <td>138</td>\n",
       "      <td>28</td>\n",
       "      <td>6</td>\n",
       "      <td>11</td>\n",
       "      <td>...</td>\n",
       "      <td>Frequent customer</td>\n",
       "      <td>Charles</td>\n",
       "      <td>Cox</td>\n",
       "      <td>Male</td>\n",
       "      <td>Minnesota</td>\n",
       "      <td>81</td>\n",
       "      <td>2019-08-01</td>\n",
       "      <td>1</td>\n",
       "      <td>married</td>\n",
       "      <td>49620</td>\n",
       "    </tr>\n",
       "    <tr>\n",
       "      <th>1</th>\n",
       "      <td>1</td>\n",
       "      <td>Chocolate Sandwich Cookies</td>\n",
       "      <td>61</td>\n",
       "      <td>19</td>\n",
       "      <td>5.800781</td>\n",
       "      <td>1977647</td>\n",
       "      <td>138</td>\n",
       "      <td>30</td>\n",
       "      <td>6</td>\n",
       "      <td>17</td>\n",
       "      <td>...</td>\n",
       "      <td>Frequent customer</td>\n",
       "      <td>Charles</td>\n",
       "      <td>Cox</td>\n",
       "      <td>Male</td>\n",
       "      <td>Minnesota</td>\n",
       "      <td>81</td>\n",
       "      <td>2019-08-01</td>\n",
       "      <td>1</td>\n",
       "      <td>married</td>\n",
       "      <td>49620</td>\n",
       "    </tr>\n",
       "    <tr>\n",
       "      <th>2</th>\n",
       "      <td>1</td>\n",
       "      <td>Chocolate Sandwich Cookies</td>\n",
       "      <td>61</td>\n",
       "      <td>19</td>\n",
       "      <td>5.800781</td>\n",
       "      <td>389851</td>\n",
       "      <td>709</td>\n",
       "      <td>2</td>\n",
       "      <td>0</td>\n",
       "      <td>21</td>\n",
       "      <td>...</td>\n",
       "      <td>Frequent customer</td>\n",
       "      <td>Deborah</td>\n",
       "      <td>Glass</td>\n",
       "      <td>Female</td>\n",
       "      <td>Vermont</td>\n",
       "      <td>66</td>\n",
       "      <td>2018-06-16</td>\n",
       "      <td>2</td>\n",
       "      <td>married</td>\n",
       "      <td>158302</td>\n",
       "    </tr>\n",
       "    <tr>\n",
       "      <th>3</th>\n",
       "      <td>1</td>\n",
       "      <td>Chocolate Sandwich Cookies</td>\n",
       "      <td>61</td>\n",
       "      <td>19</td>\n",
       "      <td>5.800781</td>\n",
       "      <td>652770</td>\n",
       "      <td>764</td>\n",
       "      <td>1</td>\n",
       "      <td>3</td>\n",
       "      <td>13</td>\n",
       "      <td>...</td>\n",
       "      <td>Frequent customer</td>\n",
       "      <td>Heather</td>\n",
       "      <td>Myers</td>\n",
       "      <td>Female</td>\n",
       "      <td>Wisconsin</td>\n",
       "      <td>40</td>\n",
       "      <td>2020-02-09</td>\n",
       "      <td>3</td>\n",
       "      <td>married</td>\n",
       "      <td>31308</td>\n",
       "    </tr>\n",
       "    <tr>\n",
       "      <th>4</th>\n",
       "      <td>1</td>\n",
       "      <td>Chocolate Sandwich Cookies</td>\n",
       "      <td>61</td>\n",
       "      <td>19</td>\n",
       "      <td>5.800781</td>\n",
       "      <td>1813452</td>\n",
       "      <td>764</td>\n",
       "      <td>3</td>\n",
       "      <td>4</td>\n",
       "      <td>17</td>\n",
       "      <td>...</td>\n",
       "      <td>Frequent customer</td>\n",
       "      <td>Heather</td>\n",
       "      <td>Myers</td>\n",
       "      <td>Female</td>\n",
       "      <td>Wisconsin</td>\n",
       "      <td>40</td>\n",
       "      <td>2020-02-09</td>\n",
       "      <td>3</td>\n",
       "      <td>married</td>\n",
       "      <td>31308</td>\n",
       "    </tr>\n",
       "  </tbody>\n",
       "</table>\n",
       "<p>5 rows × 33 columns</p>\n",
       "</div>"
      ],
      "text/plain": [
       "   product_id                product_name  aisle_id  department_id    prices  \\\n",
       "0           1  Chocolate Sandwich Cookies        61             19  5.800781   \n",
       "1           1  Chocolate Sandwich Cookies        61             19  5.800781   \n",
       "2           1  Chocolate Sandwich Cookies        61             19  5.800781   \n",
       "3           1  Chocolate Sandwich Cookies        61             19  5.800781   \n",
       "4           1  Chocolate Sandwich Cookies        61             19  5.800781   \n",
       "\n",
       "   order_id  user_id  order_number  orders_day_of_week  order_hour_of_day  \\\n",
       "0   3139998      138            28                   6                 11   \n",
       "1   1977647      138            30                   6                 17   \n",
       "2    389851      709             2                   0                 21   \n",
       "3    652770      764             1                   3                 13   \n",
       "4   1813452      764             3                   4                 17   \n",
       "\n",
       "   ...     frequency_flag  first_name  last_name  gender      state age  \\\n",
       "0  ...  Frequent customer     Charles        Cox    Male  Minnesota  81   \n",
       "1  ...  Frequent customer     Charles        Cox    Male  Minnesota  81   \n",
       "2  ...  Frequent customer     Deborah      Glass  Female    Vermont  66   \n",
       "3  ...  Frequent customer     Heather      Myers  Female  Wisconsin  40   \n",
       "4  ...  Frequent customer     Heather      Myers  Female  Wisconsin  40   \n",
       "\n",
       "  date_joined dependants  marital_status  income  \n",
       "0  2019-08-01          1         married   49620  \n",
       "1  2019-08-01          1         married   49620  \n",
       "2  2018-06-16          2         married  158302  \n",
       "3  2020-02-09          3         married   31308  \n",
       "4  2020-02-09          3         married   31308  \n",
       "\n",
       "[5 rows x 33 columns]"
      ]
     },
     "execution_count": 7,
     "metadata": {},
     "output_type": "execute_result"
    }
   ],
   "source": [
    "instacart.head(5)"
   ]
  },
  {
   "cell_type": "markdown",
   "id": "9e7a3069-6a68-4b96-abf2-bf56fa9ea75b",
   "metadata": {},
   "source": [
    "##### Columns 'first_name' and 'last_name' could potentially be traced back to a particular person. Next coul be to inform a senior colleague or whoever is responsible for data security. In this exercise and memorywise reasons I  choose to delete them."
   ]
  },
  {
   "cell_type": "code",
   "execution_count": 9,
   "id": "a4b805ff-935e-40cc-9b0a-40746f6fd681",
   "metadata": {},
   "outputs": [],
   "source": [
    "# Drop PPI columns\n",
    "\n",
    "instacart.drop(columns=['first_name', 'last_name'], inplace=True)"
   ]
  },
  {
   "cell_type": "markdown",
   "id": "91100394-7aa7-498d-bdcd-aaf12993c4d9",
   "metadata": {},
   "source": [
    "### 3.The Instacart officers are interested in comparing customer behavior in different geographic areas. Create a regional segmentation of the data. You’ll need to create a “Region” column based on the “State” column from your customers data set.\n",
    "\n",
    "    Determine whether there’s a difference in spending habits between the different U.S. regions. (Hint: You can do this by crossing the variable you just created with the spending flag.)\n"
   ]
  },
  {
   "cell_type": "code",
   "execution_count": 11,
   "id": "913eec5b-5b61-4e86-95fe-c57f844639b4",
   "metadata": {},
   "outputs": [
    {
     "data": {
      "text/plain": [
       "state\n",
       "Pennsylvania            667007\n",
       "California              659695\n",
       "Rhode Island            656777\n",
       "Georgia                 656249\n",
       "New Mexico              654400\n",
       "Arizona                 653864\n",
       "North Carolina          651790\n",
       "Oklahoma                651661\n",
       "Alaska                  648451\n",
       "Minnesota               647738\n",
       "Massachusetts           646275\n",
       "Wyoming                 644191\n",
       "Virginia                641280\n",
       "Missouri                640576\n",
       "Texas                   640285\n",
       "Colorado                639173\n",
       "Maine                   638479\n",
       "North Dakota            638391\n",
       "Alabama                 637863\n",
       "Kansas                  637418\n",
       "Louisiana               637414\n",
       "Delaware                636906\n",
       "South Carolina          636677\n",
       "Oregon                  636332\n",
       "Arkansas                636070\n",
       "Nevada                  636034\n",
       "New York                635912\n",
       "Montana                 635181\n",
       "South Dakota            633649\n",
       "Illinois                632928\n",
       "Hawaii                  632786\n",
       "Washington              632722\n",
       "Mississippi             632575\n",
       "Kentucky                632389\n",
       "Michigan                630816\n",
       "Florida                 628964\n",
       "Ohio                    628218\n",
       "Wisconsin               627981\n",
       "New Jersey              627599\n",
       "Indiana                 627185\n",
       "Maryland                626402\n",
       "Nebraska                625736\n",
       "Iowa                    625429\n",
       "Connecticut             622940\n",
       "Tennessee               617783\n",
       "New Hampshire           615259\n",
       "District of Columbia    613598\n",
       "West Virginia           612190\n",
       "Utah                    611814\n",
       "Vermont                 611644\n",
       "Idaho                   607036\n",
       "Name: count, dtype: int64"
      ]
     },
     "execution_count": 11,
     "metadata": {},
     "output_type": "execute_result"
    }
   ],
   "source": [
    "# Check 'State' column\n",
    "\n",
    "instacart['state'].value_counts()"
   ]
  },
  {
   "cell_type": "code",
   "execution_count": 12,
   "id": "17cf6e7a-93f8-43cd-a608-59f2110dc5fb",
   "metadata": {},
   "outputs": [
    {
     "data": {
      "text/plain": [
       "51"
      ]
     },
     "execution_count": 12,
     "metadata": {},
     "output_type": "execute_result"
    }
   ],
   "source": [
    "instacart['state'].nunique()"
   ]
  },
  {
   "cell_type": "code",
   "execution_count": 13,
   "id": "5293b57f-d7fb-4d47-9a42-6186483ca429",
   "metadata": {},
   "outputs": [],
   "source": [
    "# Create list for each Region\n",
    "\n",
    "northeast_states = ['Connecticut', 'Maine', 'Massachusetts', 'New Hampshire', 'Rhode Island', 'Vermont', 'New Jersey', 'New York', 'Pennsylvania']\n",
    "midwest_states = ['Illinois', 'Indiana', 'Michigan', 'Ohio', 'Wisconsin', 'Iowa', 'Kansas', 'Minnesota', 'Missouri', 'Nebraska', 'North Dakota', 'South Dakota']\n",
    "south_states = ['Delaware', 'Florida', 'Georgia', 'Maryland', 'North Carolina', 'South Carolina', 'Virginia', 'District of Columbia', 'West Virginia', 'Alabama', 'Kentucky', 'Mississippi', 'Tennessee', 'Arkansas', 'Louisiana', 'Oklahoma', 'Texas']\n",
    "west_states = ['Arizona', 'Colorado', 'Idaho', 'Montana', 'Nevada', 'New Mexico', 'Utah', 'Wyoming', 'Alaska', 'California', 'Hawaii', 'Oregon', 'Washington']\n"
   ]
  },
  {
   "cell_type": "code",
   "execution_count": 14,
   "id": "d8a5cdac-8806-46a5-9d89-c7fca367867a",
   "metadata": {},
   "outputs": [],
   "source": [
    "# Create new column\n",
    "\n",
    "instacart.loc[instacart['state'].isin(northeast_states), 'region'] = 'Northeast'\n",
    "instacart.loc[instacart['state'].isin(midwest_states), 'region'] = 'Midwest'\n",
    "instacart.loc[instacart['state'].isin(south_states), 'region'] = 'South'\n",
    "instacart.loc[instacart['state'].isin(west_states), 'region'] = 'West'"
   ]
  },
  {
   "cell_type": "code",
   "execution_count": 15,
   "id": "2afd37bc-5bb0-4ab8-8519-869bf42f2c2e",
   "metadata": {},
   "outputs": [],
   "source": [
    "instacart['region'] = instacart['region'].astype('category')"
   ]
  },
  {
   "cell_type": "code",
   "execution_count": 16,
   "id": "8b6342a9-2192-40ae-9594-59b2bfdf643c",
   "metadata": {},
   "outputs": [
    {
     "data": {
      "text/plain": [
       "region\n",
       "South        10790096\n",
       "West          8291679\n",
       "Midwest       7596065\n",
       "Northeast     5721892\n",
       "Name: count, dtype: int64"
      ]
     },
     "execution_count": 16,
     "metadata": {},
     "output_type": "execute_result"
    }
   ],
   "source": [
    "# Check new column\n",
    "\n",
    "instacart['region'].value_counts()"
   ]
  },
  {
   "cell_type": "code",
   "execution_count": 17,
   "id": "577fb619-2b03-4130-9e7f-e311bedac94e",
   "metadata": {},
   "outputs": [
    {
     "data": {
      "text/html": [
       "<div>\n",
       "<style scoped>\n",
       "    .dataframe tbody tr th:only-of-type {\n",
       "        vertical-align: middle;\n",
       "    }\n",
       "\n",
       "    .dataframe tbody tr th {\n",
       "        vertical-align: top;\n",
       "    }\n",
       "\n",
       "    .dataframe thead th {\n",
       "        text-align: right;\n",
       "    }\n",
       "</style>\n",
       "<table border=\"1\" class=\"dataframe\">\n",
       "  <thead>\n",
       "    <tr style=\"text-align: right;\">\n",
       "      <th>spending_flag</th>\n",
       "      <th>High spender</th>\n",
       "      <th>Low spender</th>\n",
       "    </tr>\n",
       "    <tr>\n",
       "      <th>region</th>\n",
       "      <th></th>\n",
       "      <th></th>\n",
       "    </tr>\n",
       "  </thead>\n",
       "  <tbody>\n",
       "    <tr>\n",
       "      <th>Midwest</th>\n",
       "      <td>29265</td>\n",
       "      <td>7566800</td>\n",
       "    </tr>\n",
       "    <tr>\n",
       "      <th>Northeast</th>\n",
       "      <td>18639</td>\n",
       "      <td>5703253</td>\n",
       "    </tr>\n",
       "    <tr>\n",
       "      <th>South</th>\n",
       "      <td>40577</td>\n",
       "      <td>10749519</td>\n",
       "    </tr>\n",
       "    <tr>\n",
       "      <th>West</th>\n",
       "      <td>31238</td>\n",
       "      <td>8260441</td>\n",
       "    </tr>\n",
       "  </tbody>\n",
       "</table>\n",
       "</div>"
      ],
      "text/plain": [
       "spending_flag  High spender  Low spender\n",
       "region                                  \n",
       "Midwest               29265      7566800\n",
       "Northeast             18639      5703253\n",
       "South                 40577     10749519\n",
       "West                  31238      8260441"
      ]
     },
     "execution_count": 17,
     "metadata": {},
     "output_type": "execute_result"
    }
   ],
   "source": [
    "# Crossing the variables\n",
    "\n",
    "pd.crosstab(instacart['region'], instacart['spending_flag'], dropna = False)"
   ]
  },
  {
   "cell_type": "code",
   "execution_count": 18,
   "id": "b7fc0f1e-e67e-40ae-80e3-82f1d9ee2911",
   "metadata": {},
   "outputs": [],
   "source": [
    "# Crossing both categories in 'spending_flag' to create two visualizations since values are too dispersed to be properly appreciated\n",
    "\n",
    "low_spender_data = instacart[instacart['spending_flag'] == 'Low spender']\n",
    "high_spender_data = instacart[instacart['spending_flag'] == 'High spender']\n",
    "\n",
    "low_spender_cross_tab = pd.crosstab(low_spender_data['region'], low_spender_data['spending_flag'])\n",
    "high_spender_cross_tab = pd.crosstab(high_spender_data['region'], high_spender_data['spending_flag'])"
   ]
  },
  {
   "cell_type": "code",
   "execution_count": 19,
   "id": "ad2f40e1-41ad-4fbb-9ca0-91fdf14d4f7b",
   "metadata": {},
   "outputs": [
    {
     "data": {
      "image/png": "[encoded data removed]",
      "text/plain": [
       "<Figure size 640x480 with 1 Axes>"
      ]
     },
     "metadata": {},
     "output_type": "display_data"
    },
    {
     "data": {
      "image/png": "[encoded data removed]",
      "text/plain": [
       "<Figure size 640x480 with 1 Axes>"
      ]
     },
     "metadata": {},
     "output_type": "display_data"
    }
   ],
   "source": [
    "barchart1 = low_spender_cross_tab.plot(kind='barh', color='skyblue')\n",
    "barchart2 = high_spender_cross_tab.plot(kind='barh')"
   ]
  },
  {
   "cell_type": "code",
   "execution_count": 20,
   "id": "a0bf6308-0e0b-472d-8a90-4d580c2cde3f",
   "metadata": {},
   "outputs": [],
   "source": [
    "barchart1.figure.savefig(os.path.join(path, '04 Analysis','Visualizations', 'low_spender_by_region.png'))"
   ]
  },
  {
   "cell_type": "code",
   "execution_count": 21,
   "id": "0650749b-8665-42be-bc81-a791af15844d",
   "metadata": {},
   "outputs": [],
   "source": [
    "barchart2.figure.savefig(os.path.join(path, '04 Analysis','Visualizations', 'high_spender_by_region.png'))"
   ]
  },
  {
   "cell_type": "markdown",
   "id": "c152fc7e-5322-459f-8ac6-f6c18812a1c7",
   "metadata": {},
   "source": [
    "### 4. The Instacart CFO isn’t interested in customers who don’t generate much revenue for the app. Create an exclusion flag for low-activity customers (customers with less than 5 orders) and exclude them from the data. Make sure you export this sample."
   ]
  },
  {
   "cell_type": "code",
   "execution_count": 23,
   "id": "a1a92aad-4bfb-4720-a4ec-775c83930f34",
   "metadata": {},
   "outputs": [],
   "source": [
    "# Create exclusion flag\n",
    "\n",
    "instacart['low_activity_customer'] = instacart['max_order'] < 5"
   ]
  },
  {
   "cell_type": "code",
   "execution_count": 24,
   "id": "d79c79a0-4dac-42fa-89f2-3cacfa9b2c6a",
   "metadata": {},
   "outputs": [
    {
     "data": {
      "text/html": [
       "<div>\n",
       "<style scoped>\n",
       "    .dataframe tbody tr th:only-of-type {\n",
       "        vertical-align: middle;\n",
       "    }\n",
       "\n",
       "    .dataframe tbody tr th {\n",
       "        vertical-align: top;\n",
       "    }\n",
       "\n",
       "    .dataframe thead th {\n",
       "        text-align: right;\n",
       "    }\n",
       "</style>\n",
       "<table border=\"1\" class=\"dataframe\">\n",
       "  <thead>\n",
       "    <tr style=\"text-align: right;\">\n",
       "      <th></th>\n",
       "      <th>max_order</th>\n",
       "      <th>low_activity_customer</th>\n",
       "    </tr>\n",
       "  </thead>\n",
       "  <tbody>\n",
       "    <tr>\n",
       "      <th>0</th>\n",
       "      <td>32</td>\n",
       "      <td>False</td>\n",
       "    </tr>\n",
       "    <tr>\n",
       "      <th>1</th>\n",
       "      <td>32</td>\n",
       "      <td>False</td>\n",
       "    </tr>\n",
       "    <tr>\n",
       "      <th>2</th>\n",
       "      <td>5</td>\n",
       "      <td>False</td>\n",
       "    </tr>\n",
       "    <tr>\n",
       "      <th>3</th>\n",
       "      <td>3</td>\n",
       "      <td>True</td>\n",
       "    </tr>\n",
       "    <tr>\n",
       "      <th>4</th>\n",
       "      <td>3</td>\n",
       "      <td>True</td>\n",
       "    </tr>\n",
       "  </tbody>\n",
       "</table>\n",
       "</div>"
      ],
      "text/plain": [
       "   max_order  low_activity_customer\n",
       "0         32                  False\n",
       "1         32                  False\n",
       "2          5                  False\n",
       "3          3                   True\n",
       "4          3                   True"
      ]
     },
     "execution_count": 24,
     "metadata": {},
     "output_type": "execute_result"
    }
   ],
   "source": [
    "# Check column\n",
    "\n",
    "instacart.head()[['max_order', 'low_activity_customer']]"
   ]
  },
  {
   "cell_type": "code",
   "execution_count": 25,
   "id": "726ff27b-6099-4c3e-b855-85fa76b26fc5",
   "metadata": {},
   "outputs": [
    {
     "data": {
      "text/plain": [
       "low_activity_customer\n",
       "False    30959687\n",
       "True      1440045\n",
       "Name: count, dtype: int64"
      ]
     },
     "execution_count": 25,
     "metadata": {},
     "output_type": "execute_result"
    }
   ],
   "source": [
    "instacart['low_activity_customer'].value_counts(dropna = False)"
   ]
  },
  {
   "cell_type": "code",
   "execution_count": 44,
   "id": "e0a31b8f-adf5-4fbd-a5c0-60af6c616d4c",
   "metadata": {},
   "outputs": [],
   "source": [
    "# Create subset\n",
    "\n",
    "instacart_high_activity = instacart[instacart['low_activity_customer'] == False]"
   ]
  },
  {
   "cell_type": "code",
   "execution_count": 46,
   "id": "d2241dc5-c733-4c54-bd33-b4e37528f7b4",
   "metadata": {},
   "outputs": [],
   "source": [
    "#Export subset\n",
    "\n",
    "instacart_high_activity.to_pickle(os.path.join(path, '02 Data','Prepared Data', 'instacart_final.pkl'))"
   ]
  },
  {
   "cell_type": "code",
   "execution_count": null,
   "id": "e7c016b1-a8db-42a1-8060-518a1f0e69dc",
   "metadata": {},
   "outputs": [],
   "source": []
  },
  {
   "cell_type": "code",
   "execution_count": null,
   "id": "3befa56d-2a62-4ca9-96ad-3a32c1477cd6",
   "metadata": {},
   "outputs": [],
   "source": []
  }
 ],
 "metadata": {
  "kernelspec": {
   "display_name": "Python 3 (ipykernel)",
   "language": "python",
   "name": "python3"
  },
  "language_info": {
   "codemirror_mode": {
    "name": "ipython",
    "version": 3
   },
   "file_extension": ".py",
   "mimetype": "text/x-python",
   "name": "python",
   "nbconvert_exporter": "python",
   "pygments_lexer": "ipython3",
   "version": "3.11.7"
  }
 },
 "nbformat": 4,
 "nbformat_minor": 5
}
